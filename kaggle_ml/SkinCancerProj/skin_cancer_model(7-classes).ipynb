{
 "metadata": {
  "language_info": {
   "codemirror_mode": {
    "name": "ipython",
    "version": 3
   },
   "file_extension": ".py",
   "mimetype": "text/x-python",
   "name": "python",
   "nbconvert_exporter": "python",
   "pygments_lexer": "ipython3",
   "version": "3.8.3-final"
  },
  "orig_nbformat": 2,
  "kernelspec": {
   "name": "python3",
   "display_name": "Python 3"
  }
 },
 "nbformat": 4,
 "nbformat_minor": 2,
 "cells": [
  {
   "cell_type": "code",
   "execution_count": 1,
   "metadata": {
    "tags": []
   },
   "outputs": [
    {
     "output_type": "stream",
     "name": "stdout",
     "text": "Found 7454 images belonging to 7 classes.\nFound 1549 images belonging to 7 classes.\n"
    }
   ],
   "source": [
    "import tensorflow as tf \n",
    "from tensorflow.keras.preprocessing.image import ImageDataGenerator\n",
    "import os\n",
    "os.environ['TF_FORCE_GPU_ALLOW_GROWTH'] = 'true'\n",
    "\n",
    "trainPath = \"C:\\\\Users\\\\ronit\\\\AI\\\\kaggle_data\\\\SkinCancerDataset(7c)\\\\train\"\n",
    "\n",
    "trainDG = ImageDataGenerator(rescale = 1./255,\n",
    "                             rotation_range=90,\n",
    "                             width_shift_range=0.3,\n",
    "                             height_shift_range=0.3,\n",
    "                             shear_range=0.2,\n",
    "                             zoom_range=0.3,\n",
    "                             horizontal_flip=True\n",
    "                             )\n",
    "\n",
    "trainG = trainDG.flow_from_directory(trainPath,\n",
    "                                     target_size = (256, 256),\n",
    "                                     class_mode = 'categorical',\n",
    "                                     batch_size = 32,\n",
    "                                     shuffle = True\n",
    "                                     )\n",
    "\n",
    "valPath = \"C:\\\\Users\\\\ronit\\\\AI\\\\kaggle_data\\\\SkinCancerDataset(7c)\\\\validation\"\n",
    "\n",
    "valDG = ImageDataGenerator(rescale = 1./255,\n",
    "                           rotation_range = 90,\n",
    "                           width_shift_range=0.3,\n",
    "                           height_shift_range=0.3,\n",
    "                           shear_range = 0.2,\n",
    "                           zoom_range = 0.3,\n",
    "                           horizontal_flip = True\n",
    "                           )\n",
    "valG = valDG.flow_from_directory(valPath,\n",
    "                                 target_size = (256, 256),\n",
    "                                 class_mode = 'categorical',\n",
    "                                 batch_size = 32,\n",
    "                                 shuffle = True)\n"
   ]
  },
  {
   "cell_type": "code",
   "execution_count": 2,
   "metadata": {},
   "outputs": [
    {
     "output_type": "execute_result",
     "data": {
      "text/plain": "array([[0., 0., 0., 0., 0., 1., 0.],\n       [0., 0., 0., 0., 1., 0., 0.],\n       [0., 0., 0., 0., 1., 0., 0.],\n       [0., 0., 0., 0., 0., 1., 0.],\n       [0., 0., 0., 0., 1., 0., 0.],\n       [0., 0., 0., 0., 0., 1., 0.],\n       [0., 1., 0., 0., 0., 0., 0.],\n       [0., 1., 0., 0., 0., 0., 0.],\n       [0., 0., 0., 0., 0., 1., 0.],\n       [0., 0., 0., 0., 0., 1., 0.]], dtype=float32)"
     },
     "metadata": {},
     "execution_count": 2
    }
   ],
   "source": [
    "imgs, labels = next(trainG)\n",
    "labels[:10]"
   ]
  },
  {
   "cell_type": "code",
   "execution_count": 4,
   "metadata": {
    "tags": []
   },
   "outputs": [
    {
     "output_type": "stream",
     "name": "stdout",
     "text": "Model: \"sequential_1\"\n_________________________________________________________________\nLayer (type)                 Output Shape              Param #   \n=================================================================\nconv2d_4 (Conv2D)            (None, 254, 254, 64)      1792      \n_________________________________________________________________\nbatch_normalization (BatchNo (None, 254, 254, 64)      1016      \n_________________________________________________________________\nmax_pooling2d_4 (MaxPooling2 (None, 127, 127, 64)      0         \n_________________________________________________________________\nconv2d_5 (Conv2D)            (None, 125, 125, 128)     73856     \n_________________________________________________________________\nbatch_normalization_1 (Batch (None, 125, 125, 128)     500       \n_________________________________________________________________\nmax_pooling2d_5 (MaxPooling2 (None, 62, 62, 128)       0         \n_________________________________________________________________\nconv2d_6 (Conv2D)            (None, 60, 60, 256)       295168    \n_________________________________________________________________\nbatch_normalization_2 (Batch (None, 60, 60, 256)       240       \n_________________________________________________________________\nmax_pooling2d_6 (MaxPooling2 (None, 30, 30, 256)       0         \n_________________________________________________________________\nconv2d_7 (Conv2D)            (None, 28, 28, 256)       590080    \n_________________________________________________________________\nbatch_normalization_3 (Batch (None, 28, 28, 256)       112       \n_________________________________________________________________\nmax_pooling2d_7 (MaxPooling2 (None, 14, 14, 256)       0         \n_________________________________________________________________\nflatten_1 (Flatten)          (None, 50176)             0         \n_________________________________________________________________\ndropout_1 (Dropout)          (None, 50176)             0         \n_________________________________________________________________\ndense_2 (Dense)              (None, 128)               6422656   \n_________________________________________________________________\ndense_3 (Dense)              (None, 7)                 903       \n=================================================================\nTotal params: 7,386,323\nTrainable params: 7,385,389\nNon-trainable params: 934\n_________________________________________________________________\n"
    }
   ],
   "source": [
    "from tensorflow.keras.models import Sequential\n",
    "from tensorflow.keras.layers import Conv2D, MaxPool2D, Dense, Flatten, Dropout, AveragePooling2D, BatchNormalization\n",
    "\n",
    "model = Sequential()\n",
    "\n",
    "model.add(Conv2D(64, (3, 3), activation='relu', input_shape = (256, 256, 3), data_format = \"channels_last\"))\n",
    "model.add(BatchNormalization(axis = 1))\n",
    "model.add(MaxPool2D((2,2)))\n",
    "\n",
    "model.add(Conv2D(128, (3, 3), activation='relu'))\n",
    "model.add(BatchNormalization(axis = 1))\n",
    "model.add(MaxPool2D((2,2)))\n",
    "\n",
    "model.add(Conv2D(256, (3, 3), activation='relu'))\n",
    "model.add(BatchNormalization(axis = 1))\n",
    "model.add(MaxPool2D((2,2)))\n",
    "\n",
    "model.add(Conv2D(256, (3, 3), activation='relu'))\n",
    "model.add(BatchNormalization(axis = 1))\n",
    "model.add(MaxPool2D((2,2)))\n",
    "\n",
    "model.add(Flatten())\n",
    "\n",
    "model.add(Dropout(0.4))\n",
    "\n",
    "model.add(Dense(128, activation='relu'))\n",
    "\n",
    "model.add(Dense(7, activation='softmax'))\n",
    "\n",
    "model.summary()\n",
    "\n",
    "model.compile(loss = 'categorical_crossentropy', optimizer='adam', metrics=['accuracy'])\n"
   ]
  },
  {
   "cell_type": "code",
   "execution_count": 5,
   "metadata": {},
   "outputs": [],
   "source": [
    "from tensorflow.keras.callbacks import EarlyStopping, TensorBoard, ModelCheckpoint\n",
    "from datetime import datetime\n",
    "\n",
    "estop = EarlyStopping(monitor='val_loss', mode='min', verbose=2, patience=22)\n",
    "\n",
    "\n",
    "log_dir = 'C:\\\\Users\\\\ronit\\\\AI\\\\kaggle_ml\\\\tensorboard'\n",
    "timestamp = datetime.now().strftime(\"%Y-%m-%d--%H%M\"+'_(skin-cancer-model7c2)')\n",
    "log_dir = log_dir + '\\\\' + timestamp\n",
    "\n",
    "tboard = TensorBoard(log_dir=log_dir, \n",
    "                    histogram_freq=1,\n",
    "                    write_graph=True,\n",
    "                    write_images=True,\n",
    "                    update_freq='epoch',\n",
    "                    profile_batch=2,\n",
    "                    embeddings_freq=1)\n",
    "\n",
    "cpoint = ModelCheckpoint(filepath = 'C:\\\\Users\\\\ronit\\\\AI\\\\kaggle_ml\\\\skin_cancer_model7c2_{val_accuracy: .3f}val_acc.h5', \n",
    "                         save_best_only = True, \n",
    "                         save_weights_only = False, \n",
    "                         monitor = 'val_accuracy',\n",
    "                         mode = 'max')"
   ]
  },
  {
   "cell_type": "code",
   "execution_count": 6,
   "metadata": {
    "tags": []
   },
   "outputs": [
    {
     "output_type": "stream",
     "name": "stdout",
     "text": "Epoch 1/300\n116/116 [==============================] - 123s 1s/step - loss: 4.3344 - accuracy: 0.5862 - val_loss: 1.2385 - val_accuracy: 0.6615\nEpoch 2/300\n116/116 [==============================] - 106s 913ms/step - loss: 1.2479 - accuracy: 0.6259 - val_loss: 1.2173 - val_accuracy: 0.6315\nEpoch 3/300\n116/116 [==============================] - 94s 810ms/step - loss: 1.1321 - accuracy: 0.6472 - val_loss: 1.5594 - val_accuracy: 0.4948\nEpoch 4/300\n116/116 [==============================] - 94s 808ms/step - loss: 1.0775 - accuracy: 0.6526 - val_loss: 1.1318 - val_accuracy: 0.5911\nEpoch 5/300\n116/116 [==============================] - 95s 815ms/step - loss: 1.0619 - accuracy: 0.6589 - val_loss: 1.0172 - val_accuracy: 0.6628\nEpoch 6/300\n116/116 [==============================] - 96s 825ms/step - loss: 0.9952 - accuracy: 0.6624 - val_loss: 1.0523 - val_accuracy: 0.6120\nEpoch 7/300\n116/116 [==============================] - 93s 802ms/step - loss: 1.0141 - accuracy: 0.6546 - val_loss: 0.9623 - val_accuracy: 0.6771\nEpoch 8/300\n116/116 [==============================] - 93s 799ms/step - loss: 0.9884 - accuracy: 0.6619 - val_loss: 1.0446 - val_accuracy: 0.6784\nEpoch 9/300\n116/116 [==============================] - 92s 796ms/step - loss: 0.9902 - accuracy: 0.6517 - val_loss: 0.9849 - val_accuracy: 0.6680\nEpoch 10/300\n116/116 [==============================] - 93s 806ms/step - loss: 0.9825 - accuracy: 0.6550 - val_loss: 0.9741 - val_accuracy: 0.6758\nEpoch 11/300\n116/116 [==============================] - 94s 809ms/step - loss: 0.9510 - accuracy: 0.6617 - val_loss: 0.9260 - val_accuracy: 0.6849\nEpoch 12/300\n116/116 [==============================] - 94s 815ms/step - loss: 0.9160 - accuracy: 0.6722 - val_loss: 0.9131 - val_accuracy: 0.6875\nEpoch 13/300\n116/116 [==============================] - 94s 806ms/step - loss: 0.9160 - accuracy: 0.6741 - val_loss: 0.8709 - val_accuracy: 0.7044\nEpoch 14/300\n116/116 [==============================] - 93s 806ms/step - loss: 0.9129 - accuracy: 0.6658 - val_loss: 0.9334 - val_accuracy: 0.6771\nEpoch 15/300\n116/116 [==============================] - 93s 804ms/step - loss: 0.8983 - accuracy: 0.6720 - val_loss: 0.8548 - val_accuracy: 0.6979\nEpoch 16/300\n116/116 [==============================] - 93s 803ms/step - loss: 0.9121 - accuracy: 0.6784 - val_loss: 0.8865 - val_accuracy: 0.6771\nEpoch 17/300\n116/116 [==============================] - 93s 805ms/step - loss: 0.9411 - accuracy: 0.6676 - val_loss: 0.9018 - val_accuracy: 0.6758\nEpoch 18/300\n116/116 [==============================] - 93s 802ms/step - loss: 0.8890 - accuracy: 0.6705 - val_loss: 0.9129 - val_accuracy: 0.6745\nEpoch 19/300\n116/116 [==============================] - 93s 801ms/step - loss: 0.9080 - accuracy: 0.6765 - val_loss: 0.8603 - val_accuracy: 0.7018\nEpoch 20/300\n116/116 [==============================] - 93s 798ms/step - loss: 0.9030 - accuracy: 0.6749 - val_loss: 0.9643 - val_accuracy: 0.6797\nEpoch 21/300\n116/116 [==============================] - 92s 797ms/step - loss: 0.9221 - accuracy: 0.6677 - val_loss: 0.8982 - val_accuracy: 0.6797\nEpoch 22/300\n116/116 [==============================] - 93s 800ms/step - loss: 0.9017 - accuracy: 0.6703 - val_loss: 0.8819 - val_accuracy: 0.6901\nEpoch 23/300\n116/116 [==============================] - 93s 798ms/step - loss: 0.8925 - accuracy: 0.6686 - val_loss: 0.9890 - val_accuracy: 0.6497\nEpoch 24/300\n116/116 [==============================] - 92s 797ms/step - loss: 0.8993 - accuracy: 0.6759 - val_loss: 0.9028 - val_accuracy: 0.6680\nEpoch 25/300\n116/116 [==============================] - 93s 798ms/step - loss: 0.8973 - accuracy: 0.6646 - val_loss: 0.8815 - val_accuracy: 0.6758\nEpoch 26/300\n116/116 [==============================] - 93s 797ms/step - loss: 0.8883 - accuracy: 0.6763 - val_loss: 0.8965 - val_accuracy: 0.6693\nEpoch 27/300\n116/116 [==============================] - 93s 798ms/step - loss: 0.9103 - accuracy: 0.6635 - val_loss: 0.9296 - val_accuracy: 0.6901\nEpoch 28/300\n116/116 [==============================] - 92s 797ms/step - loss: 0.9032 - accuracy: 0.6674 - val_loss: 0.8854 - val_accuracy: 0.6849\nEpoch 29/300\n116/116 [==============================] - 92s 796ms/step - loss: 0.8806 - accuracy: 0.6744 - val_loss: 0.9090 - val_accuracy: 0.6849\nEpoch 30/300\n116/116 [==============================] - 95s 820ms/step - loss: 0.8935 - accuracy: 0.6775 - val_loss: 0.8815 - val_accuracy: 0.6836\nEpoch 31/300\n116/116 [==============================] - 95s 816ms/step - loss: 0.8846 - accuracy: 0.6763 - val_loss: 0.9144 - val_accuracy: 0.6823\nEpoch 32/300\n116/116 [==============================] - 94s 814ms/step - loss: 0.8686 - accuracy: 0.6848 - val_loss: 0.8714 - val_accuracy: 0.6810\nEpoch 33/300\n116/116 [==============================] - 94s 810ms/step - loss: 0.8991 - accuracy: 0.6717 - val_loss: 3.9304 - val_accuracy: 0.4388\nEpoch 34/300\n116/116 [==============================] - 95s 817ms/step - loss: 0.9385 - accuracy: 0.6720 - val_loss: 0.8401 - val_accuracy: 0.6836\nEpoch 35/300\n116/116 [==============================] - 95s 819ms/step - loss: 0.8594 - accuracy: 0.6878 - val_loss: 0.8726 - val_accuracy: 0.6992\nEpoch 36/300\n116/116 [==============================] - 95s 820ms/step - loss: 0.8555 - accuracy: 0.6843 - val_loss: 0.8838 - val_accuracy: 0.6927\nEpoch 37/300\n116/116 [==============================] - 95s 816ms/step - loss: 0.9000 - accuracy: 0.6825 - val_loss: 0.9336 - val_accuracy: 0.6927\nEpoch 38/300\n116/116 [==============================] - 93s 805ms/step - loss: 0.8613 - accuracy: 0.6851 - val_loss: 0.9008 - val_accuracy: 0.6888\nEpoch 39/300\n116/116 [==============================] - 94s 812ms/step - loss: 0.8358 - accuracy: 0.6821 - val_loss: 0.8164 - val_accuracy: 0.6992\nEpoch 40/300\n116/116 [==============================] - 94s 811ms/step - loss: 0.8736 - accuracy: 0.6759 - val_loss: 1.8953 - val_accuracy: 0.6719\nEpoch 41/300\n116/116 [==============================] - 93s 799ms/step - loss: 0.9047 - accuracy: 0.6717 - val_loss: 0.8660 - val_accuracy: 0.6875\nEpoch 42/300\n116/116 [==============================] - 93s 799ms/step - loss: 0.8587 - accuracy: 0.6856 - val_loss: 0.9122 - val_accuracy: 0.6693\nEpoch 43/300\n116/116 [==============================] - 93s 800ms/step - loss: 0.8836 - accuracy: 0.6811 - val_loss: 0.8856 - val_accuracy: 0.6758\nEpoch 44/300\n116/116 [==============================] - 93s 803ms/step - loss: 0.8813 - accuracy: 0.6708 - val_loss: 0.8875 - val_accuracy: 0.7096\nEpoch 45/300\n116/116 [==============================] - 93s 801ms/step - loss: 0.8561 - accuracy: 0.6827 - val_loss: 0.9089 - val_accuracy: 0.6836\nEpoch 46/300\n116/116 [==============================] - 93s 799ms/step - loss: 0.8479 - accuracy: 0.6949 - val_loss: 0.8758 - val_accuracy: 0.6953\nEpoch 47/300\n116/116 [==============================] - 93s 798ms/step - loss: 0.8899 - accuracy: 0.6818 - val_loss: 1.0629 - val_accuracy: 0.6797\nEpoch 48/300\n116/116 [==============================] - 94s 812ms/step - loss: 0.8696 - accuracy: 0.6791 - val_loss: 0.8731 - val_accuracy: 0.6719\nEpoch 49/300\n116/116 [==============================] - 96s 830ms/step - loss: 0.8817 - accuracy: 0.6789 - val_loss: 0.8619 - val_accuracy: 0.6992\nEpoch 50/300\n116/116 [==============================] - 94s 808ms/step - loss: 0.8606 - accuracy: 0.6749 - val_loss: 0.8520 - val_accuracy: 0.7057\nEpoch 51/300\n116/116 [==============================] - 94s 814ms/step - loss: 0.8714 - accuracy: 0.6693 - val_loss: 0.8008 - val_accuracy: 0.7201\nEpoch 52/300\n116/116 [==============================] - 93s 799ms/step - loss: 0.8809 - accuracy: 0.6802 - val_loss: 0.8728 - val_accuracy: 0.6914\nEpoch 53/300\n116/116 [==============================] - 93s 801ms/step - loss: 0.8502 - accuracy: 0.6864 - val_loss: 0.8520 - val_accuracy: 0.7070\nEpoch 54/300\n116/116 [==============================] - 93s 802ms/step - loss: 0.8716 - accuracy: 0.6703 - val_loss: 0.8592 - val_accuracy: 0.6901\nEpoch 55/300\n116/116 [==============================] - 93s 798ms/step - loss: 0.8614 - accuracy: 0.6859 - val_loss: 0.8629 - val_accuracy: 0.7044\nEpoch 56/300\n116/116 [==============================] - 93s 800ms/step - loss: 0.8680 - accuracy: 0.6894 - val_loss: 0.8905 - val_accuracy: 0.6562\nEpoch 57/300\n116/116 [==============================] - 93s 800ms/step - loss: 0.8396 - accuracy: 0.6852 - val_loss: 0.8171 - val_accuracy: 0.7044\nEpoch 58/300\n116/116 [==============================] - 93s 800ms/step - loss: 0.8397 - accuracy: 0.6897 - val_loss: 0.9695 - val_accuracy: 0.6901\nEpoch 59/300\n 87/116 [=====================>........] - ETA: 19s - loss: 0.8438 - accuracy: 0.6840"
    },
    {
     "output_type": "error",
     "ename": "KeyboardInterrupt",
     "evalue": "",
     "traceback": [
      "\u001b[1;31m---------------------------------------------------------------------------\u001b[0m",
      "\u001b[1;31mKeyboardInterrupt\u001b[0m                         Traceback (most recent call last)",
      "\u001b[1;32m<ipython-input-6-ebecff2c1245>\u001b[0m in \u001b[0;36m<module>\u001b[1;34m\u001b[0m\n\u001b[1;32m----> 1\u001b[1;33m history = model.fit(trainG, \n\u001b[0m\u001b[0;32m      2\u001b[0m                     \u001b[0mepochs\u001b[0m\u001b[1;33m=\u001b[0m\u001b[1;36m300\u001b[0m\u001b[1;33m,\u001b[0m\u001b[1;33m\u001b[0m\u001b[1;33m\u001b[0m\u001b[0m\n\u001b[0;32m      3\u001b[0m                     \u001b[0msteps_per_epoch\u001b[0m\u001b[1;33m=\u001b[0m\u001b[1;36m116\u001b[0m\u001b[1;33m,\u001b[0m\u001b[1;33m\u001b[0m\u001b[1;33m\u001b[0m\u001b[0m\n\u001b[0;32m      4\u001b[0m                     \u001b[0mvalidation_data\u001b[0m \u001b[1;33m=\u001b[0m \u001b[0mvalG\u001b[0m\u001b[1;33m,\u001b[0m\u001b[1;33m\u001b[0m\u001b[1;33m\u001b[0m\u001b[0m\n\u001b[0;32m      5\u001b[0m                     \u001b[0mverbose\u001b[0m \u001b[1;33m=\u001b[0m \u001b[1;36m1\u001b[0m\u001b[1;33m,\u001b[0m\u001b[1;33m\u001b[0m\u001b[1;33m\u001b[0m\u001b[0m\n",
      "\u001b[1;32mC:\\ProgramData\\Anaconda3\\envs\\untitled\\lib\\site-packages\\tensorflow\\python\\keras\\engine\\training.py\u001b[0m in \u001b[0;36m_method_wrapper\u001b[1;34m(self, *args, **kwargs)\u001b[0m\n\u001b[0;32m     64\u001b[0m   \u001b[1;32mdef\u001b[0m \u001b[0m_method_wrapper\u001b[0m\u001b[1;33m(\u001b[0m\u001b[0mself\u001b[0m\u001b[1;33m,\u001b[0m \u001b[1;33m*\u001b[0m\u001b[0margs\u001b[0m\u001b[1;33m,\u001b[0m \u001b[1;33m**\u001b[0m\u001b[0mkwargs\u001b[0m\u001b[1;33m)\u001b[0m\u001b[1;33m:\u001b[0m\u001b[1;33m\u001b[0m\u001b[1;33m\u001b[0m\u001b[0m\n\u001b[0;32m     65\u001b[0m     \u001b[1;32mif\u001b[0m \u001b[1;32mnot\u001b[0m \u001b[0mself\u001b[0m\u001b[1;33m.\u001b[0m\u001b[0m_in_multi_worker_mode\u001b[0m\u001b[1;33m(\u001b[0m\u001b[1;33m)\u001b[0m\u001b[1;33m:\u001b[0m  \u001b[1;31m# pylint: disable=protected-access\u001b[0m\u001b[1;33m\u001b[0m\u001b[1;33m\u001b[0m\u001b[0m\n\u001b[1;32m---> 66\u001b[1;33m       \u001b[1;32mreturn\u001b[0m \u001b[0mmethod\u001b[0m\u001b[1;33m(\u001b[0m\u001b[0mself\u001b[0m\u001b[1;33m,\u001b[0m \u001b[1;33m*\u001b[0m\u001b[0margs\u001b[0m\u001b[1;33m,\u001b[0m \u001b[1;33m**\u001b[0m\u001b[0mkwargs\u001b[0m\u001b[1;33m)\u001b[0m\u001b[1;33m\u001b[0m\u001b[1;33m\u001b[0m\u001b[0m\n\u001b[0m\u001b[0;32m     67\u001b[0m \u001b[1;33m\u001b[0m\u001b[0m\n\u001b[0;32m     68\u001b[0m     \u001b[1;31m# Running inside `run_distribute_coordinator` already.\u001b[0m\u001b[1;33m\u001b[0m\u001b[1;33m\u001b[0m\u001b[1;33m\u001b[0m\u001b[0m\n",
      "\u001b[1;32mC:\\ProgramData\\Anaconda3\\envs\\untitled\\lib\\site-packages\\tensorflow\\python\\keras\\engine\\training.py\u001b[0m in \u001b[0;36mfit\u001b[1;34m(self, x, y, batch_size, epochs, verbose, callbacks, validation_split, validation_data, shuffle, class_weight, sample_weight, initial_epoch, steps_per_epoch, validation_steps, validation_batch_size, validation_freq, max_queue_size, workers, use_multiprocessing)\u001b[0m\n\u001b[0;32m    846\u001b[0m                 batch_size=batch_size):\n\u001b[0;32m    847\u001b[0m               \u001b[0mcallbacks\u001b[0m\u001b[1;33m.\u001b[0m\u001b[0mon_train_batch_begin\u001b[0m\u001b[1;33m(\u001b[0m\u001b[0mstep\u001b[0m\u001b[1;33m)\u001b[0m\u001b[1;33m\u001b[0m\u001b[1;33m\u001b[0m\u001b[0m\n\u001b[1;32m--> 848\u001b[1;33m               \u001b[0mtmp_logs\u001b[0m \u001b[1;33m=\u001b[0m \u001b[0mtrain_function\u001b[0m\u001b[1;33m(\u001b[0m\u001b[0miterator\u001b[0m\u001b[1;33m)\u001b[0m\u001b[1;33m\u001b[0m\u001b[1;33m\u001b[0m\u001b[0m\n\u001b[0m\u001b[0;32m    849\u001b[0m               \u001b[1;31m# Catch OutOfRangeError for Datasets of unknown size.\u001b[0m\u001b[1;33m\u001b[0m\u001b[1;33m\u001b[0m\u001b[1;33m\u001b[0m\u001b[0m\n\u001b[0;32m    850\u001b[0m               \u001b[1;31m# This blocks until the batch has finished executing.\u001b[0m\u001b[1;33m\u001b[0m\u001b[1;33m\u001b[0m\u001b[1;33m\u001b[0m\u001b[0m\n",
      "\u001b[1;32mC:\\ProgramData\\Anaconda3\\envs\\untitled\\lib\\site-packages\\tensorflow\\python\\eager\\def_function.py\u001b[0m in \u001b[0;36m__call__\u001b[1;34m(self, *args, **kwds)\u001b[0m\n\u001b[0;32m    578\u001b[0m         \u001b[0mxla_context\u001b[0m\u001b[1;33m.\u001b[0m\u001b[0mExit\u001b[0m\u001b[1;33m(\u001b[0m\u001b[1;33m)\u001b[0m\u001b[1;33m\u001b[0m\u001b[1;33m\u001b[0m\u001b[0m\n\u001b[0;32m    579\u001b[0m     \u001b[1;32melse\u001b[0m\u001b[1;33m:\u001b[0m\u001b[1;33m\u001b[0m\u001b[1;33m\u001b[0m\u001b[0m\n\u001b[1;32m--> 580\u001b[1;33m       \u001b[0mresult\u001b[0m \u001b[1;33m=\u001b[0m \u001b[0mself\u001b[0m\u001b[1;33m.\u001b[0m\u001b[0m_call\u001b[0m\u001b[1;33m(\u001b[0m\u001b[1;33m*\u001b[0m\u001b[0margs\u001b[0m\u001b[1;33m,\u001b[0m \u001b[1;33m**\u001b[0m\u001b[0mkwds\u001b[0m\u001b[1;33m)\u001b[0m\u001b[1;33m\u001b[0m\u001b[1;33m\u001b[0m\u001b[0m\n\u001b[0m\u001b[0;32m    581\u001b[0m \u001b[1;33m\u001b[0m\u001b[0m\n\u001b[0;32m    582\u001b[0m     \u001b[1;32mif\u001b[0m \u001b[0mtracing_count\u001b[0m \u001b[1;33m==\u001b[0m \u001b[0mself\u001b[0m\u001b[1;33m.\u001b[0m\u001b[0m_get_tracing_count\u001b[0m\u001b[1;33m(\u001b[0m\u001b[1;33m)\u001b[0m\u001b[1;33m:\u001b[0m\u001b[1;33m\u001b[0m\u001b[1;33m\u001b[0m\u001b[0m\n",
      "\u001b[1;32mC:\\ProgramData\\Anaconda3\\envs\\untitled\\lib\\site-packages\\tensorflow\\python\\eager\\def_function.py\u001b[0m in \u001b[0;36m_call\u001b[1;34m(self, *args, **kwds)\u001b[0m\n\u001b[0;32m    609\u001b[0m       \u001b[1;31m# In this case we have created variables on the first call, so we run the\u001b[0m\u001b[1;33m\u001b[0m\u001b[1;33m\u001b[0m\u001b[1;33m\u001b[0m\u001b[0m\n\u001b[0;32m    610\u001b[0m       \u001b[1;31m# defunned version which is guaranteed to never create variables.\u001b[0m\u001b[1;33m\u001b[0m\u001b[1;33m\u001b[0m\u001b[1;33m\u001b[0m\u001b[0m\n\u001b[1;32m--> 611\u001b[1;33m       \u001b[1;32mreturn\u001b[0m \u001b[0mself\u001b[0m\u001b[1;33m.\u001b[0m\u001b[0m_stateless_fn\u001b[0m\u001b[1;33m(\u001b[0m\u001b[1;33m*\u001b[0m\u001b[0margs\u001b[0m\u001b[1;33m,\u001b[0m \u001b[1;33m**\u001b[0m\u001b[0mkwds\u001b[0m\u001b[1;33m)\u001b[0m  \u001b[1;31m# pylint: disable=not-callable\u001b[0m\u001b[1;33m\u001b[0m\u001b[1;33m\u001b[0m\u001b[0m\n\u001b[0m\u001b[0;32m    612\u001b[0m     \u001b[1;32melif\u001b[0m \u001b[0mself\u001b[0m\u001b[1;33m.\u001b[0m\u001b[0m_stateful_fn\u001b[0m \u001b[1;32mis\u001b[0m \u001b[1;32mnot\u001b[0m \u001b[1;32mNone\u001b[0m\u001b[1;33m:\u001b[0m\u001b[1;33m\u001b[0m\u001b[1;33m\u001b[0m\u001b[0m\n\u001b[0;32m    613\u001b[0m       \u001b[1;31m# Release the lock early so that multiple threads can perform the call\u001b[0m\u001b[1;33m\u001b[0m\u001b[1;33m\u001b[0m\u001b[1;33m\u001b[0m\u001b[0m\n",
      "\u001b[1;32mC:\\ProgramData\\Anaconda3\\envs\\untitled\\lib\\site-packages\\tensorflow\\python\\eager\\function.py\u001b[0m in \u001b[0;36m__call__\u001b[1;34m(self, *args, **kwargs)\u001b[0m\n\u001b[0;32m   2418\u001b[0m     \u001b[1;32mwith\u001b[0m \u001b[0mself\u001b[0m\u001b[1;33m.\u001b[0m\u001b[0m_lock\u001b[0m\u001b[1;33m:\u001b[0m\u001b[1;33m\u001b[0m\u001b[1;33m\u001b[0m\u001b[0m\n\u001b[0;32m   2419\u001b[0m       \u001b[0mgraph_function\u001b[0m\u001b[1;33m,\u001b[0m \u001b[0margs\u001b[0m\u001b[1;33m,\u001b[0m \u001b[0mkwargs\u001b[0m \u001b[1;33m=\u001b[0m \u001b[0mself\u001b[0m\u001b[1;33m.\u001b[0m\u001b[0m_maybe_define_function\u001b[0m\u001b[1;33m(\u001b[0m\u001b[0margs\u001b[0m\u001b[1;33m,\u001b[0m \u001b[0mkwargs\u001b[0m\u001b[1;33m)\u001b[0m\u001b[1;33m\u001b[0m\u001b[1;33m\u001b[0m\u001b[0m\n\u001b[1;32m-> 2420\u001b[1;33m     \u001b[1;32mreturn\u001b[0m \u001b[0mgraph_function\u001b[0m\u001b[1;33m.\u001b[0m\u001b[0m_filtered_call\u001b[0m\u001b[1;33m(\u001b[0m\u001b[0margs\u001b[0m\u001b[1;33m,\u001b[0m \u001b[0mkwargs\u001b[0m\u001b[1;33m)\u001b[0m  \u001b[1;31m# pylint: disable=protected-access\u001b[0m\u001b[1;33m\u001b[0m\u001b[1;33m\u001b[0m\u001b[0m\n\u001b[0m\u001b[0;32m   2421\u001b[0m \u001b[1;33m\u001b[0m\u001b[0m\n\u001b[0;32m   2422\u001b[0m   \u001b[1;33m@\u001b[0m\u001b[0mproperty\u001b[0m\u001b[1;33m\u001b[0m\u001b[1;33m\u001b[0m\u001b[0m\n",
      "\u001b[1;32mC:\\ProgramData\\Anaconda3\\envs\\untitled\\lib\\site-packages\\tensorflow\\python\\eager\\function.py\u001b[0m in \u001b[0;36m_filtered_call\u001b[1;34m(self, args, kwargs)\u001b[0m\n\u001b[0;32m   1659\u001b[0m       \u001b[0;31m`\u001b[0m\u001b[0margs\u001b[0m\u001b[0;31m`\u001b[0m \u001b[1;32mand\u001b[0m\u001b[0;31m \u001b[0m\u001b[0;31m`\u001b[0m\u001b[0mkwargs\u001b[0m\u001b[0;31m`\u001b[0m\u001b[1;33m.\u001b[0m\u001b[1;33m\u001b[0m\u001b[1;33m\u001b[0m\u001b[0m\n\u001b[0;32m   1660\u001b[0m     \"\"\"\n\u001b[1;32m-> 1661\u001b[1;33m     return self._call_flat(\n\u001b[0m\u001b[0;32m   1662\u001b[0m         (t for t in nest.flatten((args, kwargs), expand_composites=True)\n\u001b[0;32m   1663\u001b[0m          if isinstance(t, (ops.Tensor,\n",
      "\u001b[1;32mC:\\ProgramData\\Anaconda3\\envs\\untitled\\lib\\site-packages\\tensorflow\\python\\eager\\function.py\u001b[0m in \u001b[0;36m_call_flat\u001b[1;34m(self, args, captured_inputs, cancellation_manager)\u001b[0m\n\u001b[0;32m   1743\u001b[0m         and executing_eagerly):\n\u001b[0;32m   1744\u001b[0m       \u001b[1;31m# No tape is watching; skip to running the function.\u001b[0m\u001b[1;33m\u001b[0m\u001b[1;33m\u001b[0m\u001b[1;33m\u001b[0m\u001b[0m\n\u001b[1;32m-> 1745\u001b[1;33m       return self._build_call_outputs(self._inference_function.call(\n\u001b[0m\u001b[0;32m   1746\u001b[0m           ctx, args, cancellation_manager=cancellation_manager))\n\u001b[0;32m   1747\u001b[0m     forward_backward = self._select_forward_and_backward_functions(\n",
      "\u001b[1;32mC:\\ProgramData\\Anaconda3\\envs\\untitled\\lib\\site-packages\\tensorflow\\python\\eager\\function.py\u001b[0m in \u001b[0;36mcall\u001b[1;34m(self, ctx, args, cancellation_manager)\u001b[0m\n\u001b[0;32m    591\u001b[0m       \u001b[1;32mwith\u001b[0m \u001b[0m_InterpolateFunctionError\u001b[0m\u001b[1;33m(\u001b[0m\u001b[0mself\u001b[0m\u001b[1;33m)\u001b[0m\u001b[1;33m:\u001b[0m\u001b[1;33m\u001b[0m\u001b[1;33m\u001b[0m\u001b[0m\n\u001b[0;32m    592\u001b[0m         \u001b[1;32mif\u001b[0m \u001b[0mcancellation_manager\u001b[0m \u001b[1;32mis\u001b[0m \u001b[1;32mNone\u001b[0m\u001b[1;33m:\u001b[0m\u001b[1;33m\u001b[0m\u001b[1;33m\u001b[0m\u001b[0m\n\u001b[1;32m--> 593\u001b[1;33m           outputs = execute.execute(\n\u001b[0m\u001b[0;32m    594\u001b[0m               \u001b[0mstr\u001b[0m\u001b[1;33m(\u001b[0m\u001b[0mself\u001b[0m\u001b[1;33m.\u001b[0m\u001b[0msignature\u001b[0m\u001b[1;33m.\u001b[0m\u001b[0mname\u001b[0m\u001b[1;33m)\u001b[0m\u001b[1;33m,\u001b[0m\u001b[1;33m\u001b[0m\u001b[1;33m\u001b[0m\u001b[0m\n\u001b[0;32m    595\u001b[0m               \u001b[0mnum_outputs\u001b[0m\u001b[1;33m=\u001b[0m\u001b[0mself\u001b[0m\u001b[1;33m.\u001b[0m\u001b[0m_num_outputs\u001b[0m\u001b[1;33m,\u001b[0m\u001b[1;33m\u001b[0m\u001b[1;33m\u001b[0m\u001b[0m\n",
      "\u001b[1;32mC:\\ProgramData\\Anaconda3\\envs\\untitled\\lib\\site-packages\\tensorflow\\python\\eager\\execute.py\u001b[0m in \u001b[0;36mquick_execute\u001b[1;34m(op_name, num_outputs, inputs, attrs, ctx, name)\u001b[0m\n\u001b[0;32m     57\u001b[0m   \u001b[1;32mtry\u001b[0m\u001b[1;33m:\u001b[0m\u001b[1;33m\u001b[0m\u001b[1;33m\u001b[0m\u001b[0m\n\u001b[0;32m     58\u001b[0m     \u001b[0mctx\u001b[0m\u001b[1;33m.\u001b[0m\u001b[0mensure_initialized\u001b[0m\u001b[1;33m(\u001b[0m\u001b[1;33m)\u001b[0m\u001b[1;33m\u001b[0m\u001b[1;33m\u001b[0m\u001b[0m\n\u001b[1;32m---> 59\u001b[1;33m     tensors = pywrap_tfe.TFE_Py_Execute(ctx._handle, device_name, op_name,\n\u001b[0m\u001b[0;32m     60\u001b[0m                                         inputs, attrs, num_outputs)\n\u001b[0;32m     61\u001b[0m   \u001b[1;32mexcept\u001b[0m \u001b[0mcore\u001b[0m\u001b[1;33m.\u001b[0m\u001b[0m_NotOkStatusException\u001b[0m \u001b[1;32mas\u001b[0m \u001b[0me\u001b[0m\u001b[1;33m:\u001b[0m\u001b[1;33m\u001b[0m\u001b[1;33m\u001b[0m\u001b[0m\n",
      "\u001b[1;31mKeyboardInterrupt\u001b[0m: "
     ]
    }
   ],
   "source": [
    "history = model.fit(trainG, \n",
    "                    epochs=300, \n",
    "                    steps_per_epoch=116, \n",
    "                    validation_data = valG, \n",
    "                    verbose = 1, \n",
    "                    validation_steps=24,\n",
    "                    callbacks = [estop, tboard, cpoint])"
   ]
  },
  {
   "cell_type": "code",
   "execution_count": 7,
   "metadata": {},
   "outputs": [
    {
     "output_type": "error",
     "ename": "NameError",
     "evalue": "name 'history' is not defined",
     "traceback": [
      "\u001b[1;31m---------------------------------------------------------------------------\u001b[0m",
      "\u001b[1;31mNameError\u001b[0m                                 Traceback (most recent call last)",
      "\u001b[1;32m<ipython-input-7-72bcc97d3917>\u001b[0m in \u001b[0;36m<module>\u001b[1;34m\u001b[0m\n\u001b[0;32m      1\u001b[0m \u001b[1;32mimport\u001b[0m \u001b[0mmatplotlib\u001b[0m\u001b[1;33m.\u001b[0m\u001b[0mpyplot\u001b[0m \u001b[1;32mas\u001b[0m \u001b[0mplt\u001b[0m\u001b[1;33m\u001b[0m\u001b[1;33m\u001b[0m\u001b[0m\n\u001b[1;32m----> 2\u001b[1;33m \u001b[0macc\u001b[0m \u001b[1;33m=\u001b[0m \u001b[0mhistory\u001b[0m\u001b[1;33m.\u001b[0m\u001b[0mhistory\u001b[0m\u001b[1;33m[\u001b[0m\u001b[1;34m'accuracy'\u001b[0m\u001b[1;33m]\u001b[0m\u001b[1;33m\u001b[0m\u001b[1;33m\u001b[0m\u001b[0m\n\u001b[0m\u001b[0;32m      3\u001b[0m \u001b[0mval_acc\u001b[0m \u001b[1;33m=\u001b[0m \u001b[0mhistory\u001b[0m\u001b[1;33m.\u001b[0m\u001b[0mhistory\u001b[0m\u001b[1;33m[\u001b[0m\u001b[1;34m'val_accuracy'\u001b[0m\u001b[1;33m]\u001b[0m\u001b[1;33m\u001b[0m\u001b[1;33m\u001b[0m\u001b[0m\n\u001b[0;32m      4\u001b[0m \u001b[0mloss\u001b[0m \u001b[1;33m=\u001b[0m \u001b[0mhistory\u001b[0m\u001b[1;33m.\u001b[0m\u001b[0mhistory\u001b[0m\u001b[1;33m[\u001b[0m\u001b[1;34m'loss'\u001b[0m\u001b[1;33m]\u001b[0m\u001b[1;33m\u001b[0m\u001b[1;33m\u001b[0m\u001b[0m\n\u001b[0;32m      5\u001b[0m \u001b[0mval_loss\u001b[0m \u001b[1;33m=\u001b[0m \u001b[0mhistory\u001b[0m\u001b[1;33m.\u001b[0m\u001b[0mhistory\u001b[0m\u001b[1;33m[\u001b[0m\u001b[1;34m'val_loss'\u001b[0m\u001b[1;33m]\u001b[0m\u001b[1;33m\u001b[0m\u001b[1;33m\u001b[0m\u001b[0m\n",
      "\u001b[1;31mNameError\u001b[0m: name 'history' is not defined"
     ]
    }
   ],
   "source": [
    "import matplotlib.pyplot as plt\n",
    "acc = history.history['accuracy']\n",
    "val_acc = history.history['val_accuracy']\n",
    "loss = history.history['loss']\n",
    "val_loss = history.history['val_loss']\n",
    "\n",
    "epochs = range(len(acc))\n",
    "\n",
    "plt.plot(epochs, acc, 'r', label='Training accuracy')\n",
    "plt.plot(epochs, val_acc, 'b', label='Validation accuracy')\n",
    "plt.title('Training and validation accuracy')\n",
    "plt.legend(loc=0)\n",
    "plt.figure()\n",
    "\n",
    "plt.plot(epochs, loss, 'r', label='Training loss')\n",
    "plt.plot(epochs, val_loss, 'b', label='Validation loss')\n",
    "plt.title('Training and validation loss')\n",
    "plt.legend(loc=0)\n",
    "plt.figure()\n",
    "\n",
    "plt.show()"
   ]
  },
  {
   "cell_type": "code",
   "execution_count": null,
   "metadata": {},
   "outputs": [],
   "source": []
  }
 ]
}